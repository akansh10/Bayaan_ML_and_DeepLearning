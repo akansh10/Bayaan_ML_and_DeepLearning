{
 "cells": [
  {
   "cell_type": "markdown",
   "metadata": {},
   "source": [
    "Image Preprocessing\n",
    "===\n",
    "\n",
    "In which we introduce some preprocessing techniques for image data."
   ]
  },
  {
   "cell_type": "markdown",
   "metadata": {},
   "source": [
    "# k-Nearest Neighbors\n",
    "\n",
    "kNN is a simple machine learning algorithm that depends on distances among data points for classification. The distances are usually measured using either Manhattan distance or Euclidean distance.\n",
    "\n",
    "## The MNIST Dataset\n",
    "\n",
    "We load the MNIST dataset using `cv2.imread()`."
   ]
  },
  {
   "cell_type": "code",
   "execution_count": 1,
   "metadata": {},
   "outputs": [],
   "source": [
    "import cv2\n",
    "import numpy as np"
   ]
  },
  {
   "cell_type": "code",
   "execution_count": 4,
   "metadata": {},
   "outputs": [],
   "source": [
    "# load the dataset\n",
    "mnist = cv2.imread('./datasets/digits.png', 0)"
   ]
  },
  {
   "cell_type": "code",
   "execution_count": 5,
   "metadata": {},
   "outputs": [
    {
     "data": {
      "text/plain": [
       "(1000, 2000)"
      ]
     },
     "execution_count": 5,
     "metadata": {},
     "output_type": "execute_result"
    }
   ],
   "source": [
    "mnist.shape"
   ]
  },
  {
   "cell_type": "code",
   "execution_count": 7,
   "metadata": {},
   "outputs": [],
   "source": [
    "# The mnist image that it has 2000 pixels (width) x 1000 pixels (height) resolution\n",
    "# and it has 100 images per row and 50 images per column\n",
    "\n",
    "# np.vsplit(mnist, 50) is the vertical split, i.e. it returns 50 equal rows\n",
    "# np.hsplit(mnist, 100) is the horizontal split, i.e. it returns 100 equal columns\n",
    "features = np.array([np.hsplit(row, 100) for row in np.vsplit(mnist, 50)], dtype=np.float32)"
   ]
  },
  {
   "cell_type": "code",
   "execution_count": 9,
   "metadata": {},
   "outputs": [
    {
     "data": {
      "text/plain": [
       "(50, 100, 20, 20)"
      ]
     },
     "execution_count": 9,
     "metadata": {},
     "output_type": "execute_result"
    }
   ],
   "source": [
    "# We have dataset with 50 rows and 100 columns, each with 20x20-pixel image\n",
    "features.shape"
   ]
  },
  {
   "cell_type": "code",
   "execution_count": 11,
   "metadata": {},
   "outputs": [],
   "source": [
    "# for visualization of data\n",
    "import matplotlib.pyplot as plt"
   ]
  },
  {
   "cell_type": "code",
   "execution_count": 12,
   "metadata": {},
   "outputs": [
    {
     "data": {
      "image/png": "[encoded data removed]",
      "text/plain": [
       "<Figure size 432x288 with 1 Axes>"
      ]
     },
     "metadata": {
      "needs_background": "light"
     },
     "output_type": "display_data"
    }
   ],
   "source": [
    "# we use features[0, 0] here as indices to denote that we are referring to\n",
    "# image in features in first row, and first col\n",
    "plt.imshow(features[0, 0], cmap='gray')\n",
    "plt.show()"
   ]
  },
  {
   "cell_type": "markdown",
   "metadata": {},
   "source": [
    "## Dataset Partition\n",
    "\n",
    "Split the dataset to 50-50 for arithmetic convenience."
   ]
  },
  {
   "cell_type": "code",
   "execution_count": 15,
   "metadata": {},
   "outputs": [],
   "source": [
    "# split the dataset\n",
    "\n",
    "# split first 50 images, from middle to left as training dataset\n",
    "train_features = features[:, :50].reshape(-1, (20 * 20))\n",
    "\n",
    "# split second 50 iamges, from middle to right as testing dataset\n",
    "test_features = features[:, 50:100].reshape(-1, (20 * 20))"
   ]
  },
  {
   "cell_type": "code",
   "execution_count": 20,
   "metadata": {},
   "outputs": [
    {
     "name": "stdout",
     "output_type": "stream",
     "text": [
      "[0 1 2 3 4 5 6 7 8 9]\n",
      "----------------------------------------\n",
      "[[0]\n",
      " [0]\n",
      " [0]\n",
      " ...\n",
      " [9]\n",
      " [9]\n",
      " [9]]\n",
      "----------------------------------------\n",
      "[[0]\n",
      " [0]\n",
      " [0]\n",
      " ...\n",
      " [9]\n",
      " [9]\n",
      " [9]]\n"
     ]
    }
   ],
   "source": [
    "# create an array with [0, 1, 2, 3, 4, 5, 6, 7, 8, 9]\n",
    "k = np.arange(10)\n",
    "print(k)\n",
    "\n",
    "\n",
    "\n",
    "# repeat it for 250 times since we have 2500 training images\n",
    "# reshape it to have an array for each label which belongs to specific image\n",
    "train_labels = np.repeat(k, 250).reshape(-1, 1)\n",
    "print(\"--\"*20)\n",
    "print(train_labels)\n",
    "\n",
    "\n",
    "# copy the same labels since we splitted the dataset equally to 2\n",
    "test_labels = train_labels.copy()\n",
    "print(\"--\"*20)\n",
    "print(test_labels)"
   ]
  },
  {
   "cell_type": "markdown",
   "metadata": {},
   "source": [
    "## Mean Normalization\n",
    "\n",
    "This is the process of bringing the data to standard scale, specifically, to zero-mean the data. For this preprocessing, we are going to use NumPy.\n",
    "\n",
    "The importance of bringing the data to zero mean is for the data to be at the same scale, i.e. zero-centered. Hence, there would be no bias towards any class of data.\n",
    "\n",
    "To mean normalize the dataset, we should use the average of the training features for both training features and testing features."
   ]
  },
  {
   "cell_type": "code",
   "execution_count": 21,
   "metadata": {},
   "outputs": [],
   "source": [
    "# use the average of train_features only to avoid giving test dataset an information about the training data\n",
    "train_features -= np.mean(train_features, axis=0)\n",
    "test_features -= np.mean(train_features, axis=0)"
   ]
  },
  {
   "cell_type": "markdown",
   "metadata": {},
   "source": [
    "## The kNN Model\n",
    "\n",
    "Let's create the kNN model using `cv2.ml.KNearest_create()`."
   ]
  },
  {
   "cell_type": "code",
   "execution_count": 22,
   "metadata": {},
   "outputs": [],
   "source": [
    "model = cv2.ml.KNearest_create()"
   ]
  },
  {
   "cell_type": "markdown",
   "metadata": {},
   "source": [
    "### Training the kNN\n",
    "\n",
    "Model just memorizing the data points in training process."
   ]
  },
  {
   "cell_type": "code",
   "execution_count": 23,
   "metadata": {},
   "outputs": [
    {
     "data": {
      "text/plain": [
       "True"
      ]
     },
     "execution_count": 23,
     "metadata": {},
     "output_type": "execute_result"
    }
   ],
   "source": [
    "model.train(train_features, cv2.ml.ROW_SAMPLE, train_labels)"
   ]
  },
  {
   "cell_type": "markdown",
   "metadata": {},
   "source": [
    "### Using the trained kNN\n",
    "\n",
    "Classify test features using trained kNN model."
   ]
  },
  {
   "cell_type": "code",
   "execution_count": 24,
   "metadata": {},
   "outputs": [],
   "source": [
    "# use k = 3, other values of k can be used\n",
    "ret, result, neighbors, dist = model.findNearest(test_features, 3)"
   ]
  },
  {
   "cell_type": "markdown",
   "metadata": {},
   "source": [
    "### Measure Model Accuracy\n",
    "\n",
    "Get the test accuracy of the trained kNN model."
   ]
  },
  {
   "cell_type": "code",
   "execution_count": 25,
   "metadata": {},
   "outputs": [],
   "source": [
    "# check if the results are correct\n",
    "matches = np.equal(result, test_labels)\n",
    "\n",
    "# convert bool to int\n",
    "matches = matches.astype(np.int)\n",
    "\n",
    "# count the correct predictions\n",
    "correct = np.count_nonzero(matches)\n",
    "\n",
    "# compute the accuracy\n",
    "accuracy = (correct * 100.00) / result.size"
   ]
  },
  {
   "cell_type": "code",
   "execution_count": 27,
   "metadata": {},
   "outputs": [
    {
     "name": "stdout",
     "output_type": "stream",
     "text": [
      "Correct: 1981\n",
      "Accuracy: 79.24\n"
     ]
    }
   ],
   "source": [
    "# display the test accuracy\n",
    "print('Correct: {}'.format(correct))\n",
    "print('Accuracy: {}'.format(accuracy))"
   ]
  },
  {
   "cell_type": "markdown",
   "metadata": {},
   "source": [
    "## The Fashion-MNIST Dataset\n",
    "\n",
    "The Fashion-MNIST dataset was introduced as an alternative to MNIST. The Fashion-MNIST dataset we have has 30 images per row, and 30 images per column."
   ]
  },
  {
   "cell_type": "code",
   "execution_count": 28,
   "metadata": {},
   "outputs": [],
   "source": [
    "# load the dataset\n",
    "fashion = cv2.imread('./datasets/fashion.png', 0)"
   ]
  },
  {
   "cell_type": "code",
   "execution_count": 29,
   "metadata": {},
   "outputs": [
    {
     "data": {
      "text/plain": [
       "(840, 840)"
      ]
     },
     "execution_count": 29,
     "metadata": {},
     "output_type": "execute_result"
    }
   ],
   "source": [
    "fashion.shape"
   ]
  },
  {
   "cell_type": "markdown",
   "metadata": {},
   "source": [
    "With the `840x840` size of the dataset, and `30x30` images in the dataset, we have each image at `28x28` pixels."
   ]
  },
  {
   "cell_type": "code",
   "execution_count": 30,
   "metadata": {},
   "outputs": [],
   "source": [
    "features = np.array([np.hsplit(row, 30) for row in np.vsplit(fashion, 30)], dtype=np.float32)"
   ]
  },
  {
   "cell_type": "code",
   "execution_count": 31,
   "metadata": {},
   "outputs": [
    {
     "data": {
      "text/plain": [
       "(30, 30, 28, 28)"
      ]
     },
     "execution_count": 31,
     "metadata": {},
     "output_type": "execute_result"
    }
   ],
   "source": [
    "features.shape"
   ]
  },
  {
   "cell_type": "code",
   "execution_count": 32,
   "metadata": {},
   "outputs": [
    {
     "data": {
      "image/png": "[encoded data removed]",
      "text/plain": [
       "<Figure size 432x288 with 1 Axes>"
      ]
     },
     "metadata": {
      "needs_background": "light"
     },
     "output_type": "display_data"
    }
   ],
   "source": [
    "plt.imshow(features[0, 0], cmap='gray')\n",
    "plt.show()"
   ]
  },
  {
   "cell_type": "markdown",
   "metadata": {},
   "source": [
    "## Dataset Partition\n",
    "\n",
    "Split the dataset to 50-50 for arithmetic convenience."
   ]
  },
  {
   "cell_type": "code",
   "execution_count": 33,
   "metadata": {},
   "outputs": [],
   "source": [
    "train_features = features[:, :15].reshape(-1, (28 * 28))\n",
    "test_features = features[:, 15:30].reshape(-1, (28 * 28))"
   ]
  },
  {
   "cell_type": "code",
   "execution_count": 34,
   "metadata": {},
   "outputs": [],
   "source": [
    "k = np.arange(10)\n",
    "train_labels = np.repeat(k, 45).reshape(-1, 1)\n",
    "test_labels = train_labels.copy()"
   ]
  },
  {
   "cell_type": "markdown",
   "metadata": {},
   "source": [
    "## Mean Normalization"
   ]
  },
  {
   "cell_type": "code",
   "execution_count": 35,
   "metadata": {},
   "outputs": [],
   "source": [
    "train_features -= np.mean(train_features, axis=0)\n",
    "test_features -= np.mean(train_features, axis=0)"
   ]
  },
  {
   "cell_type": "markdown",
   "metadata": {},
   "source": [
    "## The kNN Model\n",
    "\n",
    "Let's create the kNN model using `cv2.ml.KNearest_create()`."
   ]
  },
  {
   "cell_type": "code",
   "execution_count": 36,
   "metadata": {},
   "outputs": [],
   "source": [
    "model = cv2.ml.KNearest_create()"
   ]
  },
  {
   "cell_type": "markdown",
   "metadata": {},
   "source": [
    "### Training the kNN\n",
    "\n",
    "Model just memorizing the data points in training process."
   ]
  },
  {
   "cell_type": "code",
   "execution_count": 37,
   "metadata": {},
   "outputs": [
    {
     "data": {
      "text/plain": [
       "True"
      ]
     },
     "execution_count": 37,
     "metadata": {},
     "output_type": "execute_result"
    }
   ],
   "source": [
    "model.train(train_features, cv2.ml.ROW_SAMPLE, train_labels)"
   ]
  },
  {
   "cell_type": "markdown",
   "metadata": {},
   "source": [
    "### Using the trained kNN\n",
    "\n",
    "Classify test features using trained kNN model."
   ]
  },
  {
   "cell_type": "code",
   "execution_count": 38,
   "metadata": {},
   "outputs": [],
   "source": [
    "# use k = 3, other values of k can be used\n",
    "ret, result, neighbors, dist = model.findNearest(test_features, 3)"
   ]
  },
  {
   "cell_type": "markdown",
   "metadata": {},
   "source": [
    "### Measure Model Accuracy\n",
    "\n",
    "Get the test accuracy of the trained kNN model."
   ]
  },
  {
   "cell_type": "code",
   "execution_count": 39,
   "metadata": {},
   "outputs": [],
   "source": [
    "# check if the results are correct\n",
    "matches = np.equal(result, test_labels)\n",
    "\n",
    "# convert bool to int\n",
    "matches = matches.astype(np.int)\n",
    "\n",
    "# count the correct predictions\n",
    "correct = np.count_nonzero(matches)\n",
    "\n",
    "# compute the accuracy\n",
    "accuracy = (correct * 100.00) / result.size"
   ]
  },
  {
   "cell_type": "code",
   "execution_count": 40,
   "metadata": {},
   "outputs": [
    {
     "name": "stdout",
     "output_type": "stream",
     "text": [
      "Correct: 234\n",
      "Accuracy: 52.0\n"
     ]
    }
   ],
   "source": [
    "# display the test accuracy\n",
    "print('Correct: {}'.format(correct))\n",
    "print('Accuracy: {}'.format(accuracy))"
   ]
  },
  {
   "cell_type": "markdown",
   "metadata": {},
   "source": [
    "# Support Vector Machine\n",
    "\n",
    "Finds the hyperplane which best separates the dataset into  two classes.\n",
    "\n",
    "## The MNIST Dataset"
   ]
  },
  {
   "cell_type": "code",
   "execution_count": 41,
   "metadata": {},
   "outputs": [],
   "source": [
    "# load the dataset\n",
    "mnist = cv2.imread('./datasets/digits.png', 0)"
   ]
  },
  {
   "cell_type": "code",
   "execution_count": 42,
   "metadata": {},
   "outputs": [],
   "source": [
    "features = np.array([np.hsplit(row, 100) for row in np.vsplit(mnist, 50)], dtype=np.float32)"
   ]
  },
  {
   "cell_type": "code",
   "execution_count": 43,
   "metadata": {},
   "outputs": [
    {
     "data": {
      "text/plain": [
       "(50, 100, 20, 20)"
      ]
     },
     "execution_count": 43,
     "metadata": {},
     "output_type": "execute_result"
    }
   ],
   "source": [
    "features.shape"
   ]
  },
  {
   "cell_type": "markdown",
   "metadata": {},
   "source": [
    "## Dataset Partition\n",
    "\n",
    "Split the dataset to 50-50 for arithmetic convenience."
   ]
  },
  {
   "cell_type": "code",
   "execution_count": 44,
   "metadata": {},
   "outputs": [],
   "source": [
    "train_features = features[:, :50].reshape(-1, (20 * 20))\n",
    "test_features = features[:, 50:100].reshape(-1, (20 * 20))"
   ]
  },
  {
   "cell_type": "code",
   "execution_count": 45,
   "metadata": {},
   "outputs": [],
   "source": [
    "k = np.arange(10)\n",
    "train_labels = np.repeat(k, 250).reshape(-1, 1)\n",
    "test_labels = train_labels.copy()"
   ]
  },
  {
   "cell_type": "markdown",
   "metadata": {},
   "source": [
    "## Mean Normalization"
   ]
  },
  {
   "cell_type": "code",
   "execution_count": 46,
   "metadata": {},
   "outputs": [],
   "source": [
    "train_features -= np.mean(train_features, axis=0)\n",
    "test_features -= np.mean(train_features, axis=0)"
   ]
  },
  {
   "cell_type": "markdown",
   "metadata": {},
   "source": [
    "## The SVM Model"
   ]
  },
  {
   "cell_type": "code",
   "execution_count": 47,
   "metadata": {},
   "outputs": [],
   "source": [
    "model = cv2.ml.SVM_create()"
   ]
  },
  {
   "cell_type": "code",
   "execution_count": 48,
   "metadata": {},
   "outputs": [],
   "source": [
    "model.setKernel(cv2.ml.SVM_LINEAR)\n",
    "model.setC(2.67)\n",
    "model.setGamma(5.383)\n",
    "model.setType(cv2.ml.SVM_C_SVC)"
   ]
  },
  {
   "cell_type": "markdown",
   "metadata": {},
   "source": [
    "### Training the SVM"
   ]
  },
  {
   "cell_type": "code",
   "execution_count": 49,
   "metadata": {},
   "outputs": [
    {
     "data": {
      "text/plain": [
       "True"
      ]
     },
     "execution_count": 49,
     "metadata": {},
     "output_type": "execute_result"
    }
   ],
   "source": [
    "model.train(train_features, cv2.ml.ROW_SAMPLE, train_labels)"
   ]
  },
  {
   "cell_type": "markdown",
   "metadata": {},
   "source": [
    "### Using the Trained SVM"
   ]
  },
  {
   "cell_type": "code",
   "execution_count": 50,
   "metadata": {},
   "outputs": [],
   "source": [
    "result = model.predict(test_features)"
   ]
  },
  {
   "cell_type": "markdown",
   "metadata": {},
   "source": [
    "### Measure Model Accuracy\n",
    "\n",
    "Get the test accuracy of the trained SVM model."
   ]
  },
  {
   "cell_type": "code",
   "execution_count": 51,
   "metadata": {},
   "outputs": [],
   "source": [
    "matches = np.equal(result[1], test_labels)\n",
    "matches = matches.astype(np.int)\n",
    "correct = np.count_nonzero(matches)\n",
    "accuracy = (correct * 100.00) / result[1].size"
   ]
  },
  {
   "cell_type": "code",
   "execution_count": 53,
   "metadata": {},
   "outputs": [
    {
     "name": "stdout",
     "output_type": "stream",
     "text": [
      "Correct: 1671\n",
      "Accuracy : 66.84\n"
     ]
    }
   ],
   "source": [
    "print('Correct: {}'.format(correct))\n",
    "print('Accuracy : {}'.format(accuracy))"
   ]
  },
  {
   "cell_type": "markdown",
   "metadata": {},
   "source": [
    "## The Fashion-MNIST Dataset\n",
    "\n",
    "The Fashion-MNIST dataset was introduced as an alternative to MNIST. The Fashion-MNIST dataset we have has 30 images per row, and 30 images per column."
   ]
  },
  {
   "cell_type": "code",
   "execution_count": 54,
   "metadata": {},
   "outputs": [],
   "source": [
    "# load the dataset\n",
    "fashion = cv2.imread('./datasets/fashion.png', 0)"
   ]
  },
  {
   "cell_type": "code",
   "execution_count": 55,
   "metadata": {},
   "outputs": [
    {
     "data": {
      "text/plain": [
       "(840, 840)"
      ]
     },
     "execution_count": 55,
     "metadata": {},
     "output_type": "execute_result"
    }
   ],
   "source": [
    "fashion.shape"
   ]
  },
  {
   "cell_type": "markdown",
   "metadata": {},
   "source": [
    "With the `840x840` size of the dataset, and `30x30` images in the dataset, we have each image at `28x28` pixels."
   ]
  },
  {
   "cell_type": "code",
   "execution_count": 56,
   "metadata": {},
   "outputs": [],
   "source": [
    "features = np.array([np.hsplit(row, 30) for row in np.vsplit(fashion, 30)], dtype=np.float32)"
   ]
  },
  {
   "cell_type": "code",
   "execution_count": 57,
   "metadata": {},
   "outputs": [
    {
     "data": {
      "text/plain": [
       "(30, 30, 28, 28)"
      ]
     },
     "execution_count": 57,
     "metadata": {},
     "output_type": "execute_result"
    }
   ],
   "source": [
    "features.shape"
   ]
  },
  {
   "cell_type": "markdown",
   "metadata": {},
   "source": [
    "## Dataset Partition\n",
    "\n",
    "Split the dataset to 50-50 for arithmetic convenience."
   ]
  },
  {
   "cell_type": "code",
   "execution_count": 58,
   "metadata": {},
   "outputs": [],
   "source": [
    "train_features = features[:, :15].reshape(-1, (28 * 28))\n",
    "test_features = features[:, 15:30].reshape(-1, (28 * 28))"
   ]
  },
  {
   "cell_type": "code",
   "execution_count": 59,
   "metadata": {},
   "outputs": [],
   "source": [
    "k = np.arange(10)\n",
    "train_labels = np.repeat(k, 45).reshape(-1, 1)\n",
    "test_labels = train_labels.copy()"
   ]
  },
  {
   "cell_type": "markdown",
   "metadata": {},
   "source": [
    "## Mean Normalization"
   ]
  },
  {
   "cell_type": "code",
   "execution_count": 60,
   "metadata": {},
   "outputs": [],
   "source": [
    "train_features -= np.mean(train_features, axis=0)\n",
    "test_features -= np.mean(train_features, axis=0)"
   ]
  },
  {
   "cell_type": "markdown",
   "metadata": {},
   "source": [
    "## The SVM Model"
   ]
  },
  {
   "cell_type": "code",
   "execution_count": 61,
   "metadata": {},
   "outputs": [],
   "source": [
    "model = cv2.ml.SVM_create()"
   ]
  },
  {
   "cell_type": "code",
   "execution_count": 62,
   "metadata": {},
   "outputs": [],
   "source": [
    "model.setKernel(cv2.ml.SVM_LINEAR)\n",
    "model.setC(2.67)\n",
    "model.setGamma(5.383)\n",
    "model.setType(cv2.ml.SVM_C_SVC)"
   ]
  },
  {
   "cell_type": "markdown",
   "metadata": {},
   "source": [
    "### Training the SVM"
   ]
  },
  {
   "cell_type": "code",
   "execution_count": 63,
   "metadata": {},
   "outputs": [
    {
     "data": {
      "text/plain": [
       "True"
      ]
     },
     "execution_count": 63,
     "metadata": {},
     "output_type": "execute_result"
    }
   ],
   "source": [
    "model.train(train_features, cv2.ml.ROW_SAMPLE, train_labels)"
   ]
  },
  {
   "cell_type": "markdown",
   "metadata": {},
   "source": [
    "### Using the Trained SVM"
   ]
  },
  {
   "cell_type": "code",
   "execution_count": 69,
   "metadata": {},
   "outputs": [
    {
     "name": "stdout",
     "output_type": "stream",
     "text": [
      "Result: (0.0, array([[0.],\n",
      "       [6.],\n",
      "       [0.],\n",
      "       [0.],\n",
      "       [0.],\n",
      "       [6.],\n",
      "       [6.],\n",
      "       [0.],\n",
      "       [0.],\n",
      "       [6.],\n",
      "       [0.],\n",
      "       [0.],\n",
      "       [6.],\n",
      "       [0.],\n",
      "       [4.],\n",
      "       [6.],\n",
      "       [0.],\n",
      "       [0.],\n",
      "       [0.],\n",
      "       [0.],\n",
      "       [6.],\n",
      "       [1.],\n",
      "       [0.],\n",
      "       [6.],\n",
      "       [0.],\n",
      "       [0.],\n",
      "       [6.],\n",
      "       [0.],\n",
      "       [0.],\n",
      "       [0.],\n",
      "       [6.],\n",
      "       [6.],\n",
      "       [6.],\n",
      "       [6.],\n",
      "       [0.],\n",
      "       [4.],\n",
      "       [6.],\n",
      "       [0.],\n",
      "       [0.],\n",
      "       [6.],\n",
      "       [6.],\n",
      "       [4.],\n",
      "       [0.],\n",
      "       [1.],\n",
      "       [6.],\n",
      "       [1.],\n",
      "       [1.],\n",
      "       [1.],\n",
      "       [1.],\n",
      "       [1.],\n",
      "       [1.],\n",
      "       [1.],\n",
      "       [4.],\n",
      "       [1.],\n",
      "       [1.],\n",
      "       [1.],\n",
      "       [1.],\n",
      "       [1.],\n",
      "       [1.],\n",
      "       [1.],\n",
      "       [1.],\n",
      "       [1.],\n",
      "       [0.],\n",
      "       [1.],\n",
      "       [1.],\n",
      "       [1.],\n",
      "       [1.],\n",
      "       [1.],\n",
      "       [1.],\n",
      "       [1.],\n",
      "       [1.],\n",
      "       [1.],\n",
      "       [1.],\n",
      "       [1.],\n",
      "       [1.],\n",
      "       [2.],\n",
      "       [1.],\n",
      "       [1.],\n",
      "       [1.],\n",
      "       [1.],\n",
      "       [1.],\n",
      "       [1.],\n",
      "       [1.],\n",
      "       [1.],\n",
      "       [1.],\n",
      "       [1.],\n",
      "       [0.],\n",
      "       [1.],\n",
      "       [2.],\n",
      "       [1.],\n",
      "       [6.],\n",
      "       [4.],\n",
      "       [2.],\n",
      "       [4.],\n",
      "       [4.],\n",
      "       [4.],\n",
      "       [4.],\n",
      "       [2.],\n",
      "       [2.],\n",
      "       [2.],\n",
      "       [2.],\n",
      "       [2.],\n",
      "       [4.],\n",
      "       [4.],\n",
      "       [2.],\n",
      "       [4.],\n",
      "       [4.],\n",
      "       [2.],\n",
      "       [4.],\n",
      "       [4.],\n",
      "       [4.],\n",
      "       [2.],\n",
      "       [2.],\n",
      "       [2.],\n",
      "       [4.],\n",
      "       [2.],\n",
      "       [6.],\n",
      "       [4.],\n",
      "       [2.],\n",
      "       [2.],\n",
      "       [2.],\n",
      "       [2.],\n",
      "       [8.],\n",
      "       [4.],\n",
      "       [2.],\n",
      "       [2.],\n",
      "       [8.],\n",
      "       [6.],\n",
      "       [2.],\n",
      "       [4.],\n",
      "       [2.],\n",
      "       [6.],\n",
      "       [2.],\n",
      "       [2.],\n",
      "       [2.],\n",
      "       [0.],\n",
      "       [0.],\n",
      "       [0.],\n",
      "       [0.],\n",
      "       [6.],\n",
      "       [3.],\n",
      "       [3.],\n",
      "       [0.],\n",
      "       [3.],\n",
      "       [4.],\n",
      "       [3.],\n",
      "       [6.],\n",
      "       [0.],\n",
      "       [3.],\n",
      "       [4.],\n",
      "       [4.],\n",
      "       [4.],\n",
      "       [6.],\n",
      "       [4.],\n",
      "       [3.],\n",
      "       [4.],\n",
      "       [6.],\n",
      "       [0.],\n",
      "       [1.],\n",
      "       [0.],\n",
      "       [4.],\n",
      "       [0.],\n",
      "       [3.],\n",
      "       [0.],\n",
      "       [0.],\n",
      "       [3.],\n",
      "       [0.],\n",
      "       [3.],\n",
      "       [3.],\n",
      "       [0.],\n",
      "       [3.],\n",
      "       [4.],\n",
      "       [3.],\n",
      "       [4.],\n",
      "       [4.],\n",
      "       [2.],\n",
      "       [6.],\n",
      "       [3.],\n",
      "       [3.],\n",
      "       [3.],\n",
      "       [4.],\n",
      "       [4.],\n",
      "       [4.],\n",
      "       [4.],\n",
      "       [4.],\n",
      "       [4.],\n",
      "       [4.],\n",
      "       [4.],\n",
      "       [2.],\n",
      "       [2.],\n",
      "       [4.],\n",
      "       [4.],\n",
      "       [4.],\n",
      "       [2.],\n",
      "       [4.],\n",
      "       [4.],\n",
      "       [4.],\n",
      "       [4.],\n",
      "       [4.],\n",
      "       [6.],\n",
      "       [4.],\n",
      "       [2.],\n",
      "       [2.],\n",
      "       [4.],\n",
      "       [4.],\n",
      "       [4.],\n",
      "       [4.],\n",
      "       [4.],\n",
      "       [4.],\n",
      "       [4.],\n",
      "       [4.],\n",
      "       [4.],\n",
      "       [4.],\n",
      "       [4.],\n",
      "       [2.],\n",
      "       [4.],\n",
      "       [4.],\n",
      "       [4.],\n",
      "       [4.],\n",
      "       [4.],\n",
      "       [4.],\n",
      "       [4.],\n",
      "       [4.],\n",
      "       [4.],\n",
      "       [4.],\n",
      "       [9.],\n",
      "       [6.],\n",
      "       [9.],\n",
      "       [6.],\n",
      "       [8.],\n",
      "       [4.],\n",
      "       [8.],\n",
      "       [9.],\n",
      "       [9.],\n",
      "       [9.],\n",
      "       [9.],\n",
      "       [8.],\n",
      "       [8.],\n",
      "       [8.],\n",
      "       [8.],\n",
      "       [6.],\n",
      "       [9.],\n",
      "       [9.],\n",
      "       [8.],\n",
      "       [4.],\n",
      "       [2.],\n",
      "       [2.],\n",
      "       [8.],\n",
      "       [4.],\n",
      "       [4.],\n",
      "       [9.],\n",
      "       [6.],\n",
      "       [9.],\n",
      "       [2.],\n",
      "       [8.],\n",
      "       [6.],\n",
      "       [6.],\n",
      "       [8.],\n",
      "       [8.],\n",
      "       [9.],\n",
      "       [9.],\n",
      "       [9.],\n",
      "       [8.],\n",
      "       [9.],\n",
      "       [9.],\n",
      "       [9.],\n",
      "       [4.],\n",
      "       [9.],\n",
      "       [9.],\n",
      "       [8.],\n",
      "       [2.],\n",
      "       [4.],\n",
      "       [6.],\n",
      "       [0.],\n",
      "       [4.],\n",
      "       [6.],\n",
      "       [4.],\n",
      "       [4.],\n",
      "       [4.],\n",
      "       [2.],\n",
      "       [0.],\n",
      "       [6.],\n",
      "       [2.],\n",
      "       [0.],\n",
      "       [6.],\n",
      "       [6.],\n",
      "       [2.],\n",
      "       [6.],\n",
      "       [6.],\n",
      "       [4.],\n",
      "       [6.],\n",
      "       [4.],\n",
      "       [4.],\n",
      "       [4.],\n",
      "       [6.],\n",
      "       [6.],\n",
      "       [6.],\n",
      "       [2.],\n",
      "       [6.],\n",
      "       [6.],\n",
      "       [0.],\n",
      "       [4.],\n",
      "       [4.],\n",
      "       [6.],\n",
      "       [2.],\n",
      "       [6.],\n",
      "       [2.],\n",
      "       [4.],\n",
      "       [6.],\n",
      "       [4.],\n",
      "       [4.],\n",
      "       [4.],\n",
      "       [6.],\n",
      "       [4.],\n",
      "       [6.],\n",
      "       [8.],\n",
      "       [9.],\n",
      "       [9.],\n",
      "       [7.],\n",
      "       [9.],\n",
      "       [8.],\n",
      "       [9.],\n",
      "       [7.],\n",
      "       [9.],\n",
      "       [9.],\n",
      "       [9.],\n",
      "       [9.],\n",
      "       [7.],\n",
      "       [8.],\n",
      "       [8.],\n",
      "       [7.],\n",
      "       [9.],\n",
      "       [9.],\n",
      "       [7.],\n",
      "       [9.],\n",
      "       [9.],\n",
      "       [8.],\n",
      "       [8.],\n",
      "       [8.],\n",
      "       [8.],\n",
      "       [9.],\n",
      "       [9.],\n",
      "       [7.],\n",
      "       [7.],\n",
      "       [7.],\n",
      "       [8.],\n",
      "       [7.],\n",
      "       [8.],\n",
      "       [7.],\n",
      "       [9.],\n",
      "       [9.],\n",
      "       [9.],\n",
      "       [8.],\n",
      "       [8.],\n",
      "       [4.],\n",
      "       [9.],\n",
      "       [9.],\n",
      "       [8.],\n",
      "       [9.],\n",
      "       [7.],\n",
      "       [8.],\n",
      "       [8.],\n",
      "       [8.],\n",
      "       [8.],\n",
      "       [8.],\n",
      "       [8.],\n",
      "       [8.],\n",
      "       [8.],\n",
      "       [8.],\n",
      "       [8.],\n",
      "       [8.],\n",
      "       [8.],\n",
      "       [2.],\n",
      "       [8.],\n",
      "       [8.],\n",
      "       [8.],\n",
      "       [8.],\n",
      "       [8.],\n",
      "       [8.],\n",
      "       [8.],\n",
      "       [8.],\n",
      "       [8.],\n",
      "       [8.],\n",
      "       [8.],\n",
      "       [8.],\n",
      "       [4.],\n",
      "       [4.],\n",
      "       [8.],\n",
      "       [8.],\n",
      "       [8.],\n",
      "       [8.],\n",
      "       [8.],\n",
      "       [8.],\n",
      "       [8.],\n",
      "       [8.],\n",
      "       [8.],\n",
      "       [8.],\n",
      "       [6.],\n",
      "       [8.],\n",
      "       [8.],\n",
      "       [8.],\n",
      "       [8.],\n",
      "       [8.],\n",
      "       [8.],\n",
      "       [8.],\n",
      "       [9.],\n",
      "       [9.],\n",
      "       [9.],\n",
      "       [9.],\n",
      "       [9.],\n",
      "       [9.],\n",
      "       [9.],\n",
      "       [9.],\n",
      "       [9.],\n",
      "       [9.],\n",
      "       [9.],\n",
      "       [9.],\n",
      "       [9.],\n",
      "       [9.],\n",
      "       [9.],\n",
      "       [9.],\n",
      "       [9.],\n",
      "       [9.],\n",
      "       [9.],\n",
      "       [9.],\n",
      "       [9.],\n",
      "       [9.],\n",
      "       [9.],\n",
      "       [9.],\n",
      "       [9.],\n",
      "       [9.],\n",
      "       [9.],\n",
      "       [9.],\n",
      "       [9.],\n",
      "       [9.],\n",
      "       [9.],\n",
      "       [9.],\n",
      "       [9.],\n",
      "       [9.],\n",
      "       [9.],\n",
      "       [9.],\n",
      "       [9.],\n",
      "       [9.],\n",
      "       [9.],\n",
      "       [9.],\n",
      "       [9.],\n",
      "       [9.],\n",
      "       [9.],\n",
      "       [9.],\n",
      "       [9.]], dtype=float32))\n"
     ]
    }
   ],
   "source": [
    "# result has two values,\n",
    "# first is boolean if there are any predictions produced\n",
    "# second is the actual predictions\n",
    "result = model.predict(test_features)\n",
    "print('Result: {}'.format(result))"
   ]
  },
  {
   "cell_type": "markdown",
   "metadata": {},
   "source": [
    "### Measure Model Accuracy\n",
    "\n",
    "Get the test accuracy of the trained SVM model."
   ]
  },
  {
   "cell_type": "code",
   "execution_count": 70,
   "metadata": {},
   "outputs": [],
   "source": [
    "matches = np.equal(result[1], test_labels)\n",
    "matches = matches.astype(np.int)\n",
    "correct = np.count_nonzero(matches)\n",
    "accuracy = (correct * 100.00) / result[1].size"
   ]
  },
  {
   "cell_type": "code",
   "execution_count": 71,
   "metadata": {},
   "outputs": [
    {
     "name": "stdout",
     "output_type": "stream",
     "text": [
      "Correct: 254\n",
      "Accuracy : 56.44444444444444\n"
     ]
    }
   ],
   "source": [
    "print('Correct: {}'.format(correct))\n",
    "print('Accuracy : {}'.format(accuracy))"
   ]
  },
  {
   "cell_type": "markdown",
   "metadata": {},
   "source": [
    "## Principal Component Analysis\n",
    "\n",
    "This is getting the \"principal components\" that represents or summarizes the entire data."
   ]
  },
  {
   "cell_type": "code",
   "execution_count": 72,
   "metadata": {},
   "outputs": [],
   "source": [
    "from sklearn.decomposition import PCA"
   ]
  },
  {
   "cell_type": "code",
   "execution_count": 74,
   "metadata": {},
   "outputs": [],
   "source": [
    "mnist = cv2.imread('./datasets/digits.png', 0)"
   ]
  },
  {
   "cell_type": "code",
   "execution_count": 75,
   "metadata": {},
   "outputs": [],
   "source": [
    "features = np.array([np.hsplit(row, 100) for row in np.vsplit(mnist, 50)], dtype=np.float32)"
   ]
  },
  {
   "cell_type": "code",
   "execution_count": 76,
   "metadata": {},
   "outputs": [
    {
     "data": {
      "text/plain": [
       "(50, 100, 20, 20)"
      ]
     },
     "execution_count": 76,
     "metadata": {},
     "output_type": "execute_result"
    }
   ],
   "source": [
    "features.shape"
   ]
  },
  {
   "cell_type": "code",
   "execution_count": 77,
   "metadata": {},
   "outputs": [],
   "source": [
    "features = features.reshape(-1, (20 * 20))"
   ]
  },
  {
   "cell_type": "code",
   "execution_count": 78,
   "metadata": {},
   "outputs": [
    {
     "data": {
      "text/plain": [
       "(5000, 400)"
      ]
     },
     "execution_count": 78,
     "metadata": {},
     "output_type": "execute_result"
    }
   ],
   "source": [
    "features.shape"
   ]
  },
  {
   "cell_type": "code",
   "execution_count": 79,
   "metadata": {},
   "outputs": [],
   "source": [
    "pca = PCA(n_components=features.shape[1])"
   ]
  },
  {
   "cell_type": "code",
   "execution_count": 80,
   "metadata": {},
   "outputs": [
    {
     "data": {
      "image/png": "[encoded data removed]",
      "text/plain": [
       "<Figure size 432x288 with 1 Axes>"
      ]
     },
     "metadata": {
      "needs_background": "light"
     },
     "output_type": "display_data"
    }
   ],
   "source": [
    "pca.fit(features)\n",
    "\n",
    "plt.plot(np.cumsum(pca.explained_variance_ratio_))\n",
    "plt.xlabel('Number of components')\n",
    "plt.ylabel('Cumulative explained variance')\n",
    "plt.show()"
   ]
  },
  {
   "cell_type": "code",
   "execution_count": 81,
   "metadata": {},
   "outputs": [],
   "source": [
    "features = np.array([np.hsplit(row, 100) for row in np.vsplit(mnist, 50)], dtype=np.float32)"
   ]
  },
  {
   "cell_type": "code",
   "execution_count": 82,
   "metadata": {},
   "outputs": [],
   "source": [
    "pca = PCA(n_components=100)"
   ]
  },
  {
   "cell_type": "code",
   "execution_count": 83,
   "metadata": {},
   "outputs": [],
   "source": [
    "train_features = features[:, :50].reshape(-1, (20 * 20))\n",
    "test_features = features[:, 50:100].reshape(-1, (20 * 20))"
   ]
  },
  {
   "cell_type": "code",
   "execution_count": 84,
   "metadata": {},
   "outputs": [
    {
     "data": {
      "text/plain": [
       "PCA(n_components=100)"
      ]
     },
     "execution_count": 84,
     "metadata": {},
     "output_type": "execute_result"
    }
   ],
   "source": [
    "pca.fit(train_features)"
   ]
  },
  {
   "cell_type": "code",
   "execution_count": 85,
   "metadata": {},
   "outputs": [
    {
     "data": {
      "text/plain": [
       "(2500, 400)"
      ]
     },
     "execution_count": 85,
     "metadata": {},
     "output_type": "execute_result"
    }
   ],
   "source": [
    "train_features.shape"
   ]
  },
  {
   "cell_type": "code",
   "execution_count": 86,
   "metadata": {},
   "outputs": [],
   "source": [
    "train_features = pca.transform(train_features)\n",
    "test_features = pca.transform(test_features)"
   ]
  },
  {
   "cell_type": "code",
   "execution_count": 87,
   "metadata": {},
   "outputs": [
    {
     "data": {
      "text/plain": [
       "((2500, 100), (2500, 100))"
      ]
     },
     "execution_count": 87,
     "metadata": {},
     "output_type": "execute_result"
    }
   ],
   "source": [
    "train_features.shape, test_features.shape"
   ]
  },
  {
   "cell_type": "code",
   "execution_count": 88,
   "metadata": {},
   "outputs": [
    {
     "data": {
      "text/plain": [
       "<matplotlib.image.AxesImage at 0x7f2e63473978>"
      ]
     },
     "execution_count": 88,
     "metadata": {},
     "output_type": "execute_result"
    },
    {
     "data": {
      "image/png": "[encoded data removed]",
      "text/plain": [
       "<Figure size 432x288 with 1 Axes>"
      ]
     },
     "metadata": {
      "needs_background": "light"
     },
     "output_type": "display_data"
    }
   ],
   "source": [
    "inverse_pca = pca.inverse_transform(train_features)\n",
    "inverse_pca.shape\n",
    "plt.imshow(inverse_pca[0].reshape(20, 20), cmap='gray')"
   ]
  },
  {
   "cell_type": "code",
   "execution_count": 89,
   "metadata": {},
   "outputs": [
    {
     "data": {
      "image/png": "[encoded data removed]",
      "text/plain": [
       "<Figure size 432x288 with 1 Axes>"
      ]
     },
     "metadata": {
      "needs_background": "light"
     },
     "output_type": "display_data"
    }
   ],
   "source": [
    "plt.imshow(features[0, 0], cmap='gray')\n",
    "plt.show()"
   ]
  },
  {
   "cell_type": "markdown",
   "metadata": {},
   "source": [
    "## Exercises\n",
    "\n",
    "* Use PCA-transformed features as training and testing data for kNN and SVM on MNIST and Fashion-MNIST.\n",
    "* Use Mean Normalization + PCA for training and testing data for kNN and SVM on MNIST and Fashion-MNIST."
   ]
  },
  {
   "cell_type": "code",
   "execution_count": null,
   "metadata": {},
   "outputs": [],
   "source": []
  }
 ],
 "metadata": {
  "kernelspec": {
   "display_name": "Python 3",
   "language": "python",
   "name": "python3"
  },
  "language_info": {
   "codemirror_mode": {
    "name": "ipython",
    "version": 3
   },
   "file_extension": ".py",
   "mimetype": "text/x-python",
   "name": "python",
   "nbconvert_exporter": "python",
   "pygments_lexer": "ipython3",
   "version": "3.6.8"
  }
 },
 "nbformat": 4,
 "nbformat_minor": 2
}
